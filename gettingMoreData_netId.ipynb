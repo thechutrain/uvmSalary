{
 "metadata": {
  "name": "",
  "signature": "sha256:375fb08e8aa03bd8e64926e53d9c66bb79247c8c5eaa7b2ac32eac440fac4bae"
 },
 "nbformat": 3,
 "nbformat_minor": 0,
 "worksheets": [
  {
   "cells": [
    {
     "cell_type": "code",
     "collapsed": false,
     "input": [
      "import os\n",
      "os.getcwd()\n"
     ],
     "language": "python",
     "metadata": {},
     "outputs": [
      {
       "metadata": {},
       "output_type": "pyout",
       "prompt_number": 1,
       "text": [
        "'/Users/alanchu/Desktop/uvmSalary'"
       ]
      }
     ],
     "prompt_number": 1
    },
    {
     "cell_type": "markdown",
     "metadata": {},
     "source": [
      "**************** GOAL of this Notebook session ****************\n",
      "*Create a csv file / database that contain information on each employee\n",
      "* name // netID // title // department // primary_affiliation\n",
      "\n",
      "part 1:\n",
      "- make a csv file that contains all the employees names\n",
      "\n",
      "part 2: LONG TIME!!!\n",
      "- for each employee name, get their netID (selenium, to render javascript, wait, then scrape)\n",
      "- store into 2 csv files: one with netID, and the other that doesn't have netIDs\n",
      "\n",
      "part 3:\n",
      " - parse through the csv file with netID's, grab the static html file for each employee to get all the important details on the employee\n",
      " - store into a csv file: \"complete data on employees\"\n"
     ]
    },
    {
     "cell_type": "markdown",
     "metadata": {},
     "source": [
      "part 1:\n",
      "- make a csv file that contains all the employees names from the master uvm employee salary data page\n",
      "- save all the employees as \"allEmployeeNames.csv\""
     ]
    },
    {
     "cell_type": "code",
     "collapsed": false,
     "input": [
      "import pandas as pd\n",
      "########## GET THE NAME OF all users ###########\n",
      "# Read in the clean data (csv file) and make a dataframe\n",
      "# Use this dataframe and make a list of unique employee names\n",
      "\n",
      "\n",
      "df = pd.read_csv(filepath_or_buffer=\"data/uvm_employee_salary_data_1994-2014.csv\")\n",
      "# Let's look at just the most recent year\n",
      "df = df.loc[df[\"Year\"] == 2014]\n",
      "unique_names = set(df.Name)\n",
      "# convert the set into a list, so its easier to print\n",
      "unique_names = list(unique_names)\n",
      "\n",
      "df.head()"
     ],
     "language": "python",
     "metadata": {},
     "outputs": [
      {
       "html": [
        "<div style=\"max-width:1500px;overflow:auto;\">\n",
        "<table border=\"1\" class=\"dataframe\">\n",
        "  <thead>\n",
        "    <tr style=\"text-align: right;\">\n",
        "      <th></th>\n",
        "      <th>Year</th>\n",
        "      <th>Name</th>\n",
        "      <th>Position</th>\n",
        "      <th>Salary</th>\n",
        "    </tr>\n",
        "  </thead>\n",
        "  <tbody>\n",
        "    <tr>\n",
        "      <th>0</th>\n",
        "      <td>2014</td>\n",
        "      <td>Morin III,Frederick C.</td>\n",
        "      <td>Dean</td>\n",
        "      <td>544666</td>\n",
        "    </tr>\n",
        "    <tr>\n",
        "      <th>6</th>\n",
        "      <td>2014</td>\n",
        "      <td>Sullivan,E. Thomas</td>\n",
        "      <td>President</td>\n",
        "      <td>429093</td>\n",
        "    </tr>\n",
        "    <tr>\n",
        "      <th>8</th>\n",
        "      <td>2014</td>\n",
        "      <td>Rosowsky,David V.</td>\n",
        "      <td>Senior Vice Pres/Provost</td>\n",
        "      <td>383438</td>\n",
        "    </tr>\n",
        "    <tr>\n",
        "      <th>10</th>\n",
        "      <td>2014</td>\n",
        "      <td>Stein,Gary Stephen</td>\n",
        "      <td>Professor</td>\n",
        "      <td>372908</td>\n",
        "    </tr>\n",
        "    <tr>\n",
        "      <th>13</th>\n",
        "      <td>2014</td>\n",
        "      <td>Sharma,Sanjay</td>\n",
        "      <td>Dean</td>\n",
        "      <td>343423</td>\n",
        "    </tr>\n",
        "  </tbody>\n",
        "</table>\n",
        "</div>"
       ],
       "metadata": {},
       "output_type": "pyout",
       "prompt_number": 5,
       "text": [
        "    Year                    Name                  Position  Salary\n",
        "0   2014  Morin III,Frederick C.                      Dean  544666\n",
        "6   2014      Sullivan,E. Thomas                 President  429093\n",
        "8   2014       Rosowsky,David V.  Senior Vice Pres/Provost  383438\n",
        "10  2014      Stein,Gary Stephen                 Professor  372908\n",
        "13  2014           Sharma,Sanjay                      Dean  343423"
       ]
      }
     ],
     "prompt_number": 5
    },
    {
     "cell_type": "code",
     "collapsed": false,
     "input": [
      "import pandas as pd\n",
      "########## GET THE NAME OF all users ###########\n",
      "# Read in the clean data (csv file) and make a dataframe\n",
      "# Use this dataframe and make a list of unique employee names\n",
      "\n",
      "\n",
      "df = pd.read_csv(filepath_or_buffer=\"data/uvm_employee_salary_data_1994-2014.csv\")\n",
      "# Let's look at just the most recent year\n",
      "df = df.loc[df[\"Year\"] == 2014]\n",
      "unique_names = set(df.Name)\n",
      "# convert the set into a list, so its easier to print\n",
      "unique_names = list(unique_names)\n",
      "\n",
      "#make a csv file with their name only\n",
      "series_name = pd.Series(unique_names, index=range(len(unique_names)))\n",
      "series_name.to_csv(path=\"data/allEmployeeNames.csv\", index=False)\n",
      "\n",
      " "
     ],
     "language": "python",
     "metadata": {},
     "outputs": [],
     "prompt_number": 17
    },
    {
     "cell_type": "markdown",
     "metadata": {},
     "source": [
      "Part 2:\n",
      "** Canopy does not support selenium in its package manager, so I had to write this code out in sublime and tested it.\n",
      "\n",
      "function called: \"getNetId.py\""
     ]
    },
    {
     "cell_type": "markdown",
     "metadata": {},
     "source": [
      "Part ??:\n",
      "- testing to see if I can extract the useful information with python regular expressions, from the fully loaded page\n",
      "- the html here, is the fully rendered DOM"
     ]
    },
    {
     "cell_type": "code",
     "collapsed": false,
     "input": [
      "import re\n",
      "\n",
      "html = '''\n",
      "<div class=\"directory_listing_container\" data-netid=\"rerickso\" id=\"directory_container\">\n",
      "<div class=\"summary\" id=\"directory_listing_summary\"><div><ul class=\"table\"><li><span>Name:</span><span><p>Robert Michael Erickson</p></span></li><li><span>Web Address:</span><span><p><a href=\"%3Ca%20href=%27http://www.uvm.edu/%7Ererickso%27%3Ehttp://www.uvm.edu/%7Ererickso%3C/a%3E\">&lt;a href='http://www.uvm.edu/~rerickso'&gt;http://www.uvm.edu/~rerickso&lt;/a&gt;</a></p></span></li><li><span>Department:</span><span><p>Computer Science</p></span></li><li><span>Postal Address:</span><span><p></p><p>Computer Science</p><p>Votey Bldg Rm 331</p><p>USA</p><p></p></span></li><li><span>Telephone Number:</span><span><p><a href=\"tel:802-656-8137\">802-656-8137</a></p></span></li><li><span>Title:</span><span><p>Senior Lecturer</p></span></li><li><span>UVM Network ID:</span><span><p>rerickso</p></span></li><li><span>Email Address(es):</span><span><p><a href=\"mailto:Robert.Erickson@uvm.edu\">Robert.Erickson@uvm.edu</a></p></span></li><li><span>Office Phone:</span><span><p><a href=\"tel:%28802%29%20585-2189\">(802) 585-2189</a></p></span></li><li><span>Office Location:</span><span><p>331 Votey</p></span></li><li><span>High School:</span><span><p>&lt;a href='http://www.trschools.com/hsnorth/'&gt;Toms River High School North&lt;/a&gt;</p></span></li><li><span>Colleges:</span><span><p>&lt;a href='http://www.csc.vsc.edu/'&gt;Castleton State&lt;/a&gt;, &lt;a href='http://www.clarkson.edu/'&gt;Clarkson University&lt;/a&gt;</p></span></li><li><span>Hours:</span><span><p>&lt;a href='http://www.cems.uvm.edu/profile.php?EmID=37&amp;dept=CS'&gt;See my home page&lt;/a&gt;</p></span></li><li><span>Nickname:</span><span><p>Bob</p></span></li><li><span>Authentication Name:</span><span><p>rerickso@uvm.edu</p></span></li><li><span>Primary Affiliation:</span><span><p>9 Month Faculty</p></span></li><li><span>Affiliation(s):</span><span><p>9 Month Faculty</p><p>Banner Course Assignment</p><p>Former Student</p></span></li><li><span>Other Information:</span><span><p>The way that you wander is the way that you choose.</p></span></li></ul></div></div>\n",
      "</div>\n",
      "'''\n",
      "name = re.search(r'Name:</span><span><p>(.*?)</p>', html, re.M|re.I)\n",
      "print name.group(1)\n",
      "\n",
      "department = re.search(r'Department:</span><span><p>(.*?)</p>', html, re.M|re.I)\n",
      "print department.group(1)\n",
      "\n",
      "title = re.search(r'Title:</span><span><p>(.*?)</p>', html, re.M|re.I)\n",
      "print title.group(1)\n",
      "\n",
      "primary_affiliation = re.search(r'Primary Affiliation:</span><span><p>(.*?)</p>', html, re.M|re.I)\n",
      "print primary_affiliation.group(1)"
     ],
     "language": "python",
     "metadata": {},
     "outputs": [
      {
       "output_type": "stream",
       "stream": "stdout",
       "text": [
        "Robert Michael Erickson\n",
        "Computer Science\n",
        "Senior Lecturer\n",
        "9 Month Faculty\n"
       ]
      }
     ],
     "prompt_number": 2
    },
    {
     "cell_type": "markdown",
     "metadata": {},
     "source": []
    },
    {
     "cell_type": "markdown",
     "metadata": {},
     "source": [
      "Nice! This works, so in order to get the html, I need to use selenium to get the fully rendered html. Unfortunately,\n",
      "I can't get the packaged manager on canopy to work, so I developed this code on sublime.\n",
      "\n",
      "Below is the code that gets me the html:"
     ]
    },
    {
     "cell_type": "code",
     "collapsed": false,
     "input": [],
     "language": "python",
     "metadata": {},
     "outputs": []
    }
   ],
   "metadata": {}
  }
 ]
}